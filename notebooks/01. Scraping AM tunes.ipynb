{
 "cells": [
  {
   "cell_type": "markdown",
   "metadata": {},
   "source": [
    "# Scrape Arctic Monkeys tunes"
   ]
  },
  {
   "cell_type": "code",
   "execution_count": 1,
   "metadata": {},
   "outputs": [],
   "source": [
    "import re\n",
    "import pandas as pd\n",
    "from lyricsgenius import Genius"
   ]
  },
  {
   "cell_type": "markdown",
   "metadata": {},
   "source": [
    "### Functions"
   ]
  },
  {
   "cell_type": "code",
   "execution_count": 2,
   "metadata": {},
   "outputs": [],
   "source": [
    "def get_songs(album):\n",
    "    \"\"\"Extract and structure scraped songs for a given album.\"\"\"\n",
    "    album_name = album.name\n",
    "    \n",
    "    for track in album.tracks:  # iterate Track objects\n",
    "        number = track.number\n",
    "        song = track.song  # Song object\n",
    "        title = song.title\n",
    "        lyrics = song.lyrics\n",
    "\n",
    "        row = {\"album\": album_name, \"song_nr\": number, \"song_title\": title, \"lyrics\": lyrics}\n",
    "        \n",
    "        yield row\n",
    "        \n",
    "def clean_lyrics(lyrics, song_title):\n",
    "    \"\"\"Strip away some ugly parts scraped with the lyrics.\"\"\"\n",
    "    REGEX_PATTERS_TO_CLEAN = [  # (regex pattern, replacement)\n",
    "        (\"[0-9]+Embed\", \"\"),  # drop the '{numbers}Embed' at the end\n",
    "        (f\"{song_title} Lyrics\", \"\"),  # drop the '{title} Lyrics' at the front\n",
    "        (\"\\n\", \" \"), # remove new lines\n",
    "        (\"\\s\\s+\", \" \"),  # bring multiple spaces back to a single space\n",
    "        (\"Related Songs\", \"\")  # drop faulty scraped 'Related Songs' bit\n",
    "    ]\n",
    "    \n",
    "    for regex, repl in REGEX_PATTERS_TO_CLEAN:\n",
    "        lyrics = re.sub(regex, repl, lyrics)\n",
    "    \n",
    "    # strip away beginning and ending whitespace\n",
    "    lyrics = lyrics.strip()\n",
    "    \n",
    "    return lyrics\n",
    "\n",
    "def get_song_sections(lyrics):\n",
    "    \"\"\"Denoted between [] brackets.\"\"\"\n",
    "    return re.findall(\"\\[(.*?)\\]\", lyrics)\n",
    "\n",
    "def harmonize_song_sections(song_sections):\n",
    "    \"\"\"Clean and harmonize naming of song sections. Other harmonization is done manually.\"\"\"\n",
    "    song_sections = [re.findall(\"^[^:]*\", sc)[0] for sc in song_sections]  # drop after ':' (e.g. 'Verse 1: Alex Turner')\n",
    "    song_sections = [re.sub(\"(\\s[0-9])\", \"\", sc) for sc in song_sections]  # drop section numbers\n",
    "    song_sections = [sc.upper() for sc in song_sections]  # capitalize all sections\n",
    "    return song_sections\n",
    "\n",
    "def split_lyrics_into_sections(lyrics, song_sections):\n",
    "    regex_split_pattern = \"|\".join(['\\s?\\[' + sc + '\\]\\s?' for sc in song_sections])\n",
    "    lyrics_split = re.split(regex_split_pattern, lyrics)[1:]  # first section is empty due to split\n",
    "    \n",
    "    df_sections = pd.DataFrame({\"song_section\": harmonize_song_sections(song_sections),\n",
    "                                \"song_section_lyrics\": lyrics_split})\n",
    "    \n",
    "    return df_sections"
   ]
  },
  {
   "cell_type": "markdown",
   "metadata": {},
   "source": [
    "### Scrape albums"
   ]
  },
  {
   "cell_type": "code",
   "execution_count": 3,
   "metadata": {},
   "outputs": [],
   "source": [
    "ACCESS_TOKEN_GENIUS = \"myLittleSecret\""
   ]
  },
  {
   "cell_type": "code",
   "execution_count": 4,
   "metadata": {},
   "outputs": [],
   "source": [
    "ARTIST = \"Arctic Monkeys\"\n",
    "\n",
    "ALBUMS = [\n",
    "    \"Whatever People Say I Am, That’s What I’m Not\",\n",
    "    \"Favourite Worst Nightmare\",\n",
    "    \"Humbug\",\n",
    "    \"Suck It and See\",\n",
    "    \"AM\",\n",
    "    \"Tranquility Base Hotel & Casino\",\n",
    "    \"The Car\"\n",
    "]\n",
    "\n",
    "ALBUM_KEYS = dict(zip(ALBUMS,\n",
    "                      [\"1. WPSIATWIN\",\n",
    "                       \"2. Favourite WN\",\n",
    "                       \"3. Humbug\",\n",
    "                       \"4. Suck It and See\",\n",
    "                       \"5. AM\",\n",
    "                       \"6. TBH & Casino\",\n",
    "                       \"7. The Car\"]))"
   ]
  },
  {
   "cell_type": "code",
   "execution_count": 5,
   "metadata": {},
   "outputs": [],
   "source": [
    "genius = Genius(access_token=ACCESS_TOKEN_GENIUS)"
   ]
  },
  {
   "cell_type": "code",
   "execution_count": 6,
   "metadata": {},
   "outputs": [
    {
     "name": "stdout",
     "output_type": "stream",
     "text": [
      "Searching for \"Whatever People Say I Am, That’s What I’m Not\" by Arctic Monkeys...\n",
      "Searching for \"Favourite Worst Nightmare\" by Arctic Monkeys...\n",
      "Searching for \"Humbug\" by Arctic Monkeys...\n",
      "Searching for \"Suck It and See\" by Arctic Monkeys...\n",
      "Searching for \"AM\" by Arctic Monkeys...\n",
      "Searching for \"Tranquility Base Hotel & Casino\" by Arctic Monkeys...\n",
      "Searching for \"The Car\" by Arctic Monkeys...\n"
     ]
    }
   ],
   "source": [
    "scraped_albums = []\n",
    "for album_title in ALBUMS:\n",
    "    album = genius.search_album(album_title, ARTIST)\n",
    "    scraped_albums.append(album)"
   ]
  },
  {
   "cell_type": "markdown",
   "metadata": {},
   "source": [
    "### Reformat scraped data"
   ]
  },
  {
   "cell_type": "code",
   "execution_count": 7,
   "metadata": {},
   "outputs": [],
   "source": [
    "dfs = []\n",
    "for album in scraped_albums:\n",
    "    songs_list = []\n",
    "    for row in get_songs(album):\n",
    "        songs_list.append(row)\n",
    "\n",
    "    df = pd.DataFrame(songs_list)\n",
    "    dfs.append(df)\n",
    "    \n",
    "df_lyrics = pd.concat(dfs)\n",
    "df_lyrics = df_lyrics.reset_index(drop=True)"
   ]
  },
  {
   "cell_type": "code",
   "execution_count": 8,
   "metadata": {},
   "outputs": [],
   "source": [
    "df_lyrics[\"album_key\"] = df_lyrics[\"album\"].apply(lambda album: ALBUM_KEYS[album])"
   ]
  },
  {
   "cell_type": "code",
   "execution_count": 9,
   "metadata": {},
   "outputs": [],
   "source": [
    "df_lyrics = df_lyrics[[\"album\", \"album_key\", \"song_nr\", \"song_title\", \"lyrics\"]]"
   ]
  },
  {
   "cell_type": "code",
   "execution_count": 10,
   "metadata": {},
   "outputs": [
    {
     "data": {
      "text/plain": [
       "(81, 5)"
      ]
     },
     "execution_count": 10,
     "metadata": {},
     "output_type": "execute_result"
    }
   ],
   "source": [
    "df_lyrics.shape"
   ]
  },
  {
   "cell_type": "code",
   "execution_count": 11,
   "metadata": {},
   "outputs": [
    {
     "data": {
      "text/html": [
       "<div>\n",
       "<style scoped>\n",
       "    .dataframe tbody tr th:only-of-type {\n",
       "        vertical-align: middle;\n",
       "    }\n",
       "\n",
       "    .dataframe tbody tr th {\n",
       "        vertical-align: top;\n",
       "    }\n",
       "\n",
       "    .dataframe thead th {\n",
       "        text-align: right;\n",
       "    }\n",
       "</style>\n",
       "<table border=\"1\" class=\"dataframe\">\n",
       "  <thead>\n",
       "    <tr style=\"text-align: right;\">\n",
       "      <th></th>\n",
       "      <th>album</th>\n",
       "      <th>album_key</th>\n",
       "      <th>song_nr</th>\n",
       "      <th>song_title</th>\n",
       "      <th>lyrics</th>\n",
       "    </tr>\n",
       "  </thead>\n",
       "  <tbody>\n",
       "    <tr>\n",
       "      <th>0</th>\n",
       "      <td>Whatever People Say I Am, That’s What I’m Not</td>\n",
       "      <td>1. WPSIATWIN</td>\n",
       "      <td>1.0</td>\n",
       "      <td>The View from the Afternoon</td>\n",
       "      <td>The View from the Afternoon Lyrics[Verse 1]\\nA...</td>\n",
       "    </tr>\n",
       "    <tr>\n",
       "      <th>1</th>\n",
       "      <td>Whatever People Say I Am, That’s What I’m Not</td>\n",
       "      <td>1. WPSIATWIN</td>\n",
       "      <td>2.0</td>\n",
       "      <td>I Bet You Look Good on the Dancefloor</td>\n",
       "      <td>I Bet You Look Good on the Dancefloor Lyrics[V...</td>\n",
       "    </tr>\n",
       "    <tr>\n",
       "      <th>2</th>\n",
       "      <td>Whatever People Say I Am, That’s What I’m Not</td>\n",
       "      <td>1. WPSIATWIN</td>\n",
       "      <td>3.0</td>\n",
       "      <td>Fake Tales of San Francisco</td>\n",
       "      <td>Fake Tales of San Francisco Lyrics[Verse 1]\\nF...</td>\n",
       "    </tr>\n",
       "    <tr>\n",
       "      <th>3</th>\n",
       "      <td>Whatever People Say I Am, That’s What I’m Not</td>\n",
       "      <td>1. WPSIATWIN</td>\n",
       "      <td>4.0</td>\n",
       "      <td>Dancing Shoes</td>\n",
       "      <td>Dancing Shoes Lyrics[Verse 1]\\nGet on your dan...</td>\n",
       "    </tr>\n",
       "    <tr>\n",
       "      <th>4</th>\n",
       "      <td>Whatever People Say I Am, That’s What I’m Not</td>\n",
       "      <td>1. WPSIATWIN</td>\n",
       "      <td>5.0</td>\n",
       "      <td>You Probably Couldn’t See for the Lights But Y...</td>\n",
       "      <td>You Probably Couldn’t See for the Lights But Y...</td>\n",
       "    </tr>\n",
       "  </tbody>\n",
       "</table>\n",
       "</div>"
      ],
      "text/plain": [
       "                                           album     album_key  song_nr  \\\n",
       "0  Whatever People Say I Am, That’s What I’m Not  1. WPSIATWIN      1.0   \n",
       "1  Whatever People Say I Am, That’s What I’m Not  1. WPSIATWIN      2.0   \n",
       "2  Whatever People Say I Am, That’s What I’m Not  1. WPSIATWIN      3.0   \n",
       "3  Whatever People Say I Am, That’s What I’m Not  1. WPSIATWIN      4.0   \n",
       "4  Whatever People Say I Am, That’s What I’m Not  1. WPSIATWIN      5.0   \n",
       "\n",
       "                                          song_title  \\\n",
       "0                        The View from the Afternoon   \n",
       "1              I Bet You Look Good on the Dancefloor   \n",
       "2                        Fake Tales of San Francisco   \n",
       "3                                      Dancing Shoes   \n",
       "4  You Probably Couldn’t See for the Lights But Y...   \n",
       "\n",
       "                                              lyrics  \n",
       "0  The View from the Afternoon Lyrics[Verse 1]\\nA...  \n",
       "1  I Bet You Look Good on the Dancefloor Lyrics[V...  \n",
       "2  Fake Tales of San Francisco Lyrics[Verse 1]\\nF...  \n",
       "3  Dancing Shoes Lyrics[Verse 1]\\nGet on your dan...  \n",
       "4  You Probably Couldn’t See for the Lights But Y...  "
      ]
     },
     "execution_count": 11,
     "metadata": {},
     "output_type": "execute_result"
    }
   ],
   "source": [
    "df_lyrics.head()"
   ]
  },
  {
   "cell_type": "code",
   "execution_count": 12,
   "metadata": {
    "scrolled": true
   },
   "outputs": [],
   "source": [
    "list_df_sections = []\n",
    "for i, song_line in df_lyrics.iterrows():\n",
    "    title, lyrics = song_line.loc[[\"song_title\", \"lyrics\"]]\n",
    "    \n",
    "    lyrics = clean_lyrics(lyrics, title)\n",
    "    \n",
    "    song_sections = get_song_sections(lyrics)\n",
    "    \n",
    "    df_sections = split_lyrics_into_sections(lyrics, song_sections)\n",
    "    df_sections[\"song_title\"] = title\n",
    "    \n",
    "    list_df_sections.append(df_sections)\n",
    "    \n",
    "df_sections_all = pd.concat(list_df_sections)"
   ]
  },
  {
   "cell_type": "code",
   "execution_count": 13,
   "metadata": {},
   "outputs": [],
   "source": [
    "data = df_lyrics.merge(df_sections_all, on=\"song_title\").copy()"
   ]
  },
  {
   "cell_type": "code",
   "execution_count": 14,
   "metadata": {},
   "outputs": [],
   "source": [
    "data.drop(columns=\"lyrics\", inplace=True)\n",
    "data = data.dropna(subset=[\"song_nr\"])  # e.g. non-song \"Humbug [Booklet]\" was also scraped\n",
    "data[\"song_nr\"] = data[\"song_nr\"].astype(int)"
   ]
  },
  {
   "cell_type": "code",
   "execution_count": 15,
   "metadata": {},
   "outputs": [
    {
     "data": {
      "text/plain": [
       "(494, 6)"
      ]
     },
     "execution_count": 15,
     "metadata": {},
     "output_type": "execute_result"
    }
   ],
   "source": [
    "data.shape"
   ]
  },
  {
   "cell_type": "code",
   "execution_count": 16,
   "metadata": {},
   "outputs": [
    {
     "data": {
      "text/html": [
       "<div>\n",
       "<style scoped>\n",
       "    .dataframe tbody tr th:only-of-type {\n",
       "        vertical-align: middle;\n",
       "    }\n",
       "\n",
       "    .dataframe tbody tr th {\n",
       "        vertical-align: top;\n",
       "    }\n",
       "\n",
       "    .dataframe thead th {\n",
       "        text-align: right;\n",
       "    }\n",
       "</style>\n",
       "<table border=\"1\" class=\"dataframe\">\n",
       "  <thead>\n",
       "    <tr style=\"text-align: right;\">\n",
       "      <th></th>\n",
       "      <th>album</th>\n",
       "      <th>album_key</th>\n",
       "      <th>song_nr</th>\n",
       "      <th>song_title</th>\n",
       "      <th>song_section</th>\n",
       "      <th>song_section_lyrics</th>\n",
       "    </tr>\n",
       "  </thead>\n",
       "  <tbody>\n",
       "    <tr>\n",
       "      <th>485</th>\n",
       "      <td>The Car</td>\n",
       "      <td>7. The Car</td>\n",
       "      <td>9</td>\n",
       "      <td>Mr Schwartz</td>\n",
       "      <td>VERSE</td>\n",
       "      <td>Put your heavy metal to the test There might b...</td>\n",
       "    </tr>\n",
       "    <tr>\n",
       "      <th>486</th>\n",
       "      <td>The Car</td>\n",
       "      <td>7. The Car</td>\n",
       "      <td>9</td>\n",
       "      <td>Mr Schwartz</td>\n",
       "      <td>CHORUS</td>\n",
       "      <td>Mr. Schwartz is stayin' strong for the crew Wa...</td>\n",
       "    </tr>\n",
       "    <tr>\n",
       "      <th>487</th>\n",
       "      <td>The Car</td>\n",
       "      <td>7. The Car</td>\n",
       "      <td>9</td>\n",
       "      <td>Mr Schwartz</td>\n",
       "      <td>VERSE</td>\n",
       "      <td>Gradually, it's coming into view It's like you...</td>\n",
       "    </tr>\n",
       "    <tr>\n",
       "      <th>488</th>\n",
       "      <td>The Car</td>\n",
       "      <td>7. The Car</td>\n",
       "      <td>9</td>\n",
       "      <td>Mr Schwartz</td>\n",
       "      <td>CHORUS</td>\n",
       "      <td>Mr. Schwartz is stayin' strong for the crew Wa...</td>\n",
       "    </tr>\n",
       "    <tr>\n",
       "      <th>489</th>\n",
       "      <td>The Car</td>\n",
       "      <td>7. The Car</td>\n",
       "      <td>9</td>\n",
       "      <td>Mr Schwartz</td>\n",
       "      <td>BRIDGE</td>\n",
       "      <td>And if wе guess who I'm pretending to be Do we...</td>\n",
       "    </tr>\n",
       "    <tr>\n",
       "      <th>490</th>\n",
       "      <td>The Car</td>\n",
       "      <td>7. The Car</td>\n",
       "      <td>9</td>\n",
       "      <td>Mr Schwartz</td>\n",
       "      <td>VERSE</td>\n",
       "      <td>The gloved hand's reachin' in to hit the switc...</td>\n",
       "    </tr>\n",
       "    <tr>\n",
       "      <th>491</th>\n",
       "      <td>The Car</td>\n",
       "      <td>7. The Car</td>\n",
       "      <td>9</td>\n",
       "      <td>Mr Schwartz</td>\n",
       "      <td>CHORUS</td>\n",
       "      <td>Mr. Schwartz is havin' tea with the grips Aski...</td>\n",
       "    </tr>\n",
       "    <tr>\n",
       "      <th>492</th>\n",
       "      <td>The Car</td>\n",
       "      <td>7. The Car</td>\n",
       "      <td>10</td>\n",
       "      <td>Perfect Sense</td>\n",
       "      <td>VERSE</td>\n",
       "      <td>Richard of York, the Executive Branch Having s...</td>\n",
       "    </tr>\n",
       "    <tr>\n",
       "      <th>493</th>\n",
       "      <td>The Car</td>\n",
       "      <td>7. The Car</td>\n",
       "      <td>10</td>\n",
       "      <td>Perfect Sense</td>\n",
       "      <td>VERSE</td>\n",
       "      <td>A four-figure sum on a hotel notepad A revelat...</td>\n",
       "    </tr>\n",
       "    <tr>\n",
       "      <th>494</th>\n",
       "      <td>The Car</td>\n",
       "      <td>7. The Car</td>\n",
       "      <td>10</td>\n",
       "      <td>Perfect Sense</td>\n",
       "      <td>VERSE</td>\n",
       "      <td>Keep remindin' me that it ain't a race When my...</td>\n",
       "    </tr>\n",
       "  </tbody>\n",
       "</table>\n",
       "</div>"
      ],
      "text/plain": [
       "       album   album_key  song_nr     song_title song_section  \\\n",
       "485  The Car  7. The Car        9    Mr Schwartz        VERSE   \n",
       "486  The Car  7. The Car        9    Mr Schwartz       CHORUS   \n",
       "487  The Car  7. The Car        9    Mr Schwartz        VERSE   \n",
       "488  The Car  7. The Car        9    Mr Schwartz       CHORUS   \n",
       "489  The Car  7. The Car        9    Mr Schwartz       BRIDGE   \n",
       "490  The Car  7. The Car        9    Mr Schwartz        VERSE   \n",
       "491  The Car  7. The Car        9    Mr Schwartz       CHORUS   \n",
       "492  The Car  7. The Car       10  Perfect Sense        VERSE   \n",
       "493  The Car  7. The Car       10  Perfect Sense        VERSE   \n",
       "494  The Car  7. The Car       10  Perfect Sense        VERSE   \n",
       "\n",
       "                                   song_section_lyrics  \n",
       "485  Put your heavy metal to the test There might b...  \n",
       "486  Mr. Schwartz is stayin' strong for the crew Wa...  \n",
       "487  Gradually, it's coming into view It's like you...  \n",
       "488  Mr. Schwartz is stayin' strong for the crew Wa...  \n",
       "489  And if wе guess who I'm pretending to be Do we...  \n",
       "490  The gloved hand's reachin' in to hit the switc...  \n",
       "491  Mr. Schwartz is havin' tea with the grips Aski...  \n",
       "492  Richard of York, the Executive Branch Having s...  \n",
       "493  A four-figure sum on a hotel notepad A revelat...  \n",
       "494  Keep remindin' me that it ain't a race When my...  "
      ]
     },
     "execution_count": 16,
     "metadata": {},
     "output_type": "execute_result"
    }
   ],
   "source": [
    "data.tail(10)"
   ]
  },
  {
   "cell_type": "markdown",
   "metadata": {},
   "source": [
    "### Store clean scraped data for manual processing"
   ]
  },
  {
   "cell_type": "code",
   "execution_count": 17,
   "metadata": {},
   "outputs": [],
   "source": [
    "data.to_excel(\"../data/data_lyrics_arctic_monkeys_scraped.xlsx\", index=False)"
   ]
  }
 ],
 "metadata": {
  "kernelspec": {
   "display_name": "Python 3 (ipykernel)",
   "language": "python",
   "name": "python3"
  },
  "language_info": {
   "codemirror_mode": {
    "name": "ipython",
    "version": 3
   },
   "file_extension": ".py",
   "mimetype": "text/x-python",
   "name": "python",
   "nbconvert_exporter": "python",
   "pygments_lexer": "ipython3",
   "version": "3.8.16"
  }
 },
 "nbformat": 4,
 "nbformat_minor": 4
}
