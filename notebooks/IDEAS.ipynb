{
 "cells": [
  {
   "cell_type": "markdown",
   "metadata": {},
   "source": [
    "# IDEAS\n",
    "\n",
    "- Lexical diversity\n",
    "- Evolution/proportion of song structure (verse, chorus, pre-chorus, post-chorus, solo, etc.)\n",
    "- Metadata\n",
    "    - Average song duration per album\n",
    "    - Song & section lengths\n",
    "    - Top lists: most repetitive chorus, longest chorus, most song sections, etc.\n",
    "    - Top hit position of each song and album\n",
    "- Additional textual analysis\n",
    "    - Topical analysis (n-grams)\n",
    "    - NRC sentiment/joy/fear/etc. analysis\n",
    "    - Nouns, verbs, places, etc. & word clouds --> to deal with frequency due to only a song, look for appearance across songs\n",
    "    - Album cohesiveness (e.g. based on vector similarity for words or sentences)\n",
    "    - Lexical dispersion plot for some keywords (love, girl, etc.), cf. https://www.nltk.org/book/ch01.html\n",
    "- Possible extensions & inspiration\n",
    "    - https://baryon.be/stories/jamesbond\n",
    "    - Spotify information (to be scraped, cf. http://jdaytn.com/posts/download-blink-182-data; danceability, etc.)"
   ]
  }
 ],
 "metadata": {
  "kernelspec": {
   "display_name": "Python 3",
   "language": "python",
   "name": "python3"
  },
  "language_info": {
   "codemirror_mode": {
    "name": "ipython",
    "version": 3
   },
   "file_extension": ".py",
   "mimetype": "text/x-python",
   "name": "python",
   "nbconvert_exporter": "python",
   "pygments_lexer": "ipython3",
   "version": "3.7.1"
  }
 },
 "nbformat": 4,
 "nbformat_minor": 2
}
