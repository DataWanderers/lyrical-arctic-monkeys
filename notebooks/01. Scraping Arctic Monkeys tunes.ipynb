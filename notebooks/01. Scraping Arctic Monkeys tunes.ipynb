{
 "cells": [
  {
   "cell_type": "markdown",
   "metadata": {},
   "source": [
    "# How to scrape song lyrics"
   ]
  },
  {
   "cell_type": "code",
   "execution_count": 70,
   "metadata": {},
   "outputs": [],
   "source": [
    "import re\n",
    "import pandas as pd\n",
    "from lyricsgenius import Genius"
   ]
  },
  {
   "cell_type": "markdown",
   "metadata": {},
   "source": [
    "### Functions"
   ]
  },
  {
   "cell_type": "code",
   "execution_count": 607,
   "metadata": {},
   "outputs": [],
   "source": [
    "def get_songs(album):\n",
    "    \"\"\"Extract and structure scraped songs for a given album.\"\"\"\n",
    "    album_name = album.name\n",
    "    \n",
    "    for track in album.tracks:  # iterate Track objects\n",
    "        number = track.number\n",
    "        song = track.song  # Song object\n",
    "        title = song.title\n",
    "        lyrics = song.lyrics\n",
    "\n",
    "        row = {\"album\": album_name, \"song_nr\": number, \"song_title\": title, \"lyrics\": lyrics}\n",
    "        \n",
    "        yield row\n",
    "        \n",
    "def clean_lyrics(lyrics, song_title):\n",
    "    \"\"\"Strip away some ugly parts scraped with the lyrics.\"\"\"\n",
    "    REGEX_PATTERS_TO_CLEAN = [  # (regex pattern, replacement)\n",
    "        (\"[0-9]+Embed\", \"\"),  # drop the '{numbers}Embed' at the end\n",
    "        (f\"{song_title} Lyrics\", \"\"),  # drop the '{title} Lyrics' at the front\n",
    "        (\"\\n\", \" \"), # remove new lines\n",
    "        (\"\\s\\s+\", \" \")  # bring multiple spaces back to a single space\n",
    "        (\"Related Songs\", \"\")  # drop faulty scraped 'Related Songs' bit\n",
    "    ]\n",
    "    \n",
    "    for regex, repl in REGEX_PATTERS_TO_CLEAN:\n",
    "        lyrics = re.sub(regex, repl, lyrics)\n",
    "    \n",
    "    # strip away beginning and ending whitespace\n",
    "    lyrics = lyrics.strip()\n",
    "    \n",
    "    return lyrics\n",
    "\n",
    "def get_song_sections(lyrics):\n",
    "    \"\"\"Denoted between [] brackets.\"\"\"\n",
    "    return re.findall(\"\\[(.*?)\\]\", lyrics)\n",
    "\n",
    "def harmonize_song_sections(song_sections):\n",
    "    \"\"\"Clean and harmonize naming of song sections. Other harmonization is done manually.\"\"\"\n",
    "    song_sections = [re.findall(\"^[^:]*\", sc)[0] for sc in song_sections]  # drop after ':' (e.g. 'Verse 1: Alex Turner')\n",
    "    song_sections = [re.sub(\"(\\s[0-9])\", \"\", sc) for sc in song_sections]  # drop section numbers\n",
    "    song_sections = [sc.upper() for sc in song_sections]  # capitalize all sections\n",
    "    return song_sections\n",
    "\n",
    "def split_lyrics_into_sections(lyrics, song_sections):\n",
    "    regex_split_pattern = \"|\".join(['\\s?\\[' + sc + '\\]\\s?' for sc in song_sections])\n",
    "    lyrics_split = re.split(regex_split_pattern, lyrics)[1:]  # first section is empty due to split\n",
    "    \n",
    "    df_sections = pd.DataFrame({\"song_section\": harmonize_song_sections(song_sections),\n",
    "                                \"song_section_lyrics\": lyrics_split})\n",
    "    \n",
    "    return df_sections"
   ]
  },
  {
   "cell_type": "markdown",
   "metadata": {},
   "source": [
    "### Scrape albums"
   ]
  },
  {
   "cell_type": "code",
   "execution_count": 588,
   "metadata": {},
   "outputs": [],
   "source": [
    "ACCESS_TOKEN_GENIUS = \"myLittleSecret\""
   ]
  },
  {
   "cell_type": "code",
   "execution_count": 589,
   "metadata": {},
   "outputs": [],
   "source": [
    "ARTIST = \"Arctic Monkeys\"\n",
    "\n",
    "ALBUMS = [\n",
    "    \"Whatever People Say I Am, That's What I'm Not\",\n",
    "    \"Favourite Worst Nightmare\",\n",
    "    \"Humbug\",\n",
    "    \"Suck It and See\",\n",
    "    \"AM\",\n",
    "    \"Tranquility Base Hotel & Casino\",\n",
    "    \"The Car\"\n",
    "]\n",
    "\n",
    "ALBUM_KEYS = dict(zip(ALBUMS,\n",
    "                      [\"1. WPSIATWIN\",\n",
    "                       \"2. Favourite WN\",\n",
    "                       \"3. Humbug\",\n",
    "                       \"4. Suck It and See\",\n",
    "                       \"5. AM\",\n",
    "                       \"6. TBH & Casino\",\n",
    "                       \"7. The Car\"]))"
   ]
  },
  {
   "cell_type": "code",
   "execution_count": 590,
   "metadata": {},
   "outputs": [],
   "source": [
    "genius = Genius(access_token=ACCESS_TOKEN_GENIUS)"
   ]
  },
  {
   "cell_type": "code",
   "execution_count": null,
   "metadata": {},
   "outputs": [],
   "source": [
    "scraped_albums = []\n",
    "for album_title in ALBUMS:\n",
    "    album = genius.search_album(album_title, ARTIST)\n",
    "    scraped_albums.append(album)"
   ]
  },
  {
   "cell_type": "markdown",
   "metadata": {},
   "source": [
    "### Reformat scraped data"
   ]
  },
  {
   "cell_type": "code",
   "execution_count": 75,
   "metadata": {},
   "outputs": [],
   "source": [
    "dfs = []\n",
    "for album in scraped_albums:\n",
    "    songs_list = []\n",
    "    for row in get_songs(album):\n",
    "        songs_list.append(row)\n",
    "\n",
    "    df = pd.DataFrame(songs_list)\n",
    "    dfs.append(df)\n",
    "    \n",
    "df_lyrics = pd.concat(dfs)\n",
    "df_lyrics = df_lyrics.reset_index(drop=True)"
   ]
  },
  {
   "cell_type": "code",
   "execution_count": 599,
   "metadata": {},
   "outputs": [],
   "source": [
    "df_lyrics[\"album_key\"] = df_lyrics[\"album\"].apply(lambda album: ALBUM_KEYS[album])"
   ]
  },
  {
   "cell_type": "code",
   "execution_count": 608,
   "metadata": {},
   "outputs": [],
   "source": [
    "df_lyrics = df_lyrics[[\"album\", \"album_key\", \"song_nr\", \"song_title\", \"lyrics\"]]"
   ]
  },
  {
   "cell_type": "code",
   "execution_count": 609,
   "metadata": {},
   "outputs": [
    {
     "data": {
      "text/plain": [
       "(71, 5)"
      ]
     },
     "execution_count": 609,
     "metadata": {},
     "output_type": "execute_result"
    }
   ],
   "source": [
    "df_lyrics.shape"
   ]
  },
  {
   "cell_type": "code",
   "execution_count": 602,
   "metadata": {},
   "outputs": [
    {
     "data": {
      "text/html": [
       "<div>\n",
       "<style scoped>\n",
       "    .dataframe tbody tr th:only-of-type {\n",
       "        vertical-align: middle;\n",
       "    }\n",
       "\n",
       "    .dataframe tbody tr th {\n",
       "        vertical-align: top;\n",
       "    }\n",
       "\n",
       "    .dataframe thead th {\n",
       "        text-align: right;\n",
       "    }\n",
       "</style>\n",
       "<table border=\"1\" class=\"dataframe\">\n",
       "  <thead>\n",
       "    <tr style=\"text-align: right;\">\n",
       "      <th></th>\n",
       "      <th>album</th>\n",
       "      <th>album_key</th>\n",
       "      <th>song_nr</th>\n",
       "      <th>song_title</th>\n",
       "      <th>lyrics</th>\n",
       "    </tr>\n",
       "  </thead>\n",
       "  <tbody>\n",
       "    <tr>\n",
       "      <th>0</th>\n",
       "      <td>Whatever People Say I Am, That’s What I’m Not</td>\n",
       "      <td>1. WPSIATWIN</td>\n",
       "      <td>1.0</td>\n",
       "      <td>The View from the Afternoon</td>\n",
       "      <td>The View from the Afternoon Lyrics[Verse 1]\\nA...</td>\n",
       "    </tr>\n",
       "    <tr>\n",
       "      <th>1</th>\n",
       "      <td>Whatever People Say I Am, That’s What I’m Not</td>\n",
       "      <td>1. WPSIATWIN</td>\n",
       "      <td>2.0</td>\n",
       "      <td>I Bet You Look Good on the Dancefloor</td>\n",
       "      <td>I Bet You Look Good on the Dancefloor Lyrics[V...</td>\n",
       "    </tr>\n",
       "    <tr>\n",
       "      <th>2</th>\n",
       "      <td>Whatever People Say I Am, That’s What I’m Not</td>\n",
       "      <td>1. WPSIATWIN</td>\n",
       "      <td>3.0</td>\n",
       "      <td>Fake Tales of San Francisco</td>\n",
       "      <td>Fake Tales of San Francisco Lyrics[Verse 1]\\nF...</td>\n",
       "    </tr>\n",
       "    <tr>\n",
       "      <th>3</th>\n",
       "      <td>Whatever People Say I Am, That’s What I’m Not</td>\n",
       "      <td>1. WPSIATWIN</td>\n",
       "      <td>4.0</td>\n",
       "      <td>Dancing Shoes</td>\n",
       "      <td>Dancing Shoes Lyrics[Verse 1]\\nGet on your dan...</td>\n",
       "    </tr>\n",
       "    <tr>\n",
       "      <th>4</th>\n",
       "      <td>Whatever People Say I Am, That’s What I’m Not</td>\n",
       "      <td>1. WPSIATWIN</td>\n",
       "      <td>5.0</td>\n",
       "      <td>You Probably Couldn’t See for the Lights But Y...</td>\n",
       "      <td>You Probably Couldn’t See for the Lights But Y...</td>\n",
       "    </tr>\n",
       "  </tbody>\n",
       "</table>\n",
       "</div>"
      ],
      "text/plain": [
       "                                           album     album_key  song_nr  \\\n",
       "0  Whatever People Say I Am, That’s What I’m Not  1. WPSIATWIN      1.0   \n",
       "1  Whatever People Say I Am, That’s What I’m Not  1. WPSIATWIN      2.0   \n",
       "2  Whatever People Say I Am, That’s What I’m Not  1. WPSIATWIN      3.0   \n",
       "3  Whatever People Say I Am, That’s What I’m Not  1. WPSIATWIN      4.0   \n",
       "4  Whatever People Say I Am, That’s What I’m Not  1. WPSIATWIN      5.0   \n",
       "\n",
       "                                          song_title  \\\n",
       "0                        The View from the Afternoon   \n",
       "1              I Bet You Look Good on the Dancefloor   \n",
       "2                        Fake Tales of San Francisco   \n",
       "3                                      Dancing Shoes   \n",
       "4  You Probably Couldn’t See for the Lights But Y...   \n",
       "\n",
       "                                              lyrics  \n",
       "0  The View from the Afternoon Lyrics[Verse 1]\\nA...  \n",
       "1  I Bet You Look Good on the Dancefloor Lyrics[V...  \n",
       "2  Fake Tales of San Francisco Lyrics[Verse 1]\\nF...  \n",
       "3  Dancing Shoes Lyrics[Verse 1]\\nGet on your dan...  \n",
       "4  You Probably Couldn’t See for the Lights But Y...  "
      ]
     },
     "execution_count": 602,
     "metadata": {},
     "output_type": "execute_result"
    }
   ],
   "source": [
    "df_lyrics.head()"
   ]
  },
  {
   "cell_type": "code",
   "execution_count": 611,
   "metadata": {
    "scrolled": true
   },
   "outputs": [],
   "source": [
    "list_df_sections = []\n",
    "for i, song_line in df_lyrics.iterrows():\n",
    "    title, lyrics = song_line.loc[[\"song_title\", \"lyrics\"]]\n",
    "    \n",
    "    lyrics = clean_lyrics(lyrics, title)\n",
    "    \n",
    "    song_sections = get_song_sections(lyrics)\n",
    "    \n",
    "    df_sections = split_lyrics_into_sections(lyrics, song_sections)\n",
    "    df_sections[\"song_title\"] = title\n",
    "    \n",
    "    list_df_sections.append(df_sections)\n",
    "    \n",
    "df_sections_all = pd.concat(list_df_sections)"
   ]
  },
  {
   "cell_type": "code",
   "execution_count": 612,
   "metadata": {},
   "outputs": [],
   "source": [
    "data = df_lyrics.merge(df_sections_all, on=\"song_title\").copy()"
   ]
  },
  {
   "cell_type": "code",
   "execution_count": 613,
   "metadata": {},
   "outputs": [],
   "source": [
    "data.drop(columns=\"lyrics\", inplace=True)\n",
    "data = data.dropna(subset=[\"song_nr\"])  # e.g. non-song \"Humbug [Booklet]\" was also scraped\n",
    "data[\"song_nr\"] = data[\"song_nr\"].astype(int)"
   ]
  },
  {
   "cell_type": "code",
   "execution_count": 614,
   "metadata": {},
   "outputs": [
    {
     "data": {
      "text/plain": [
       "(433, 6)"
      ]
     },
     "execution_count": 614,
     "metadata": {},
     "output_type": "execute_result"
    }
   ],
   "source": [
    "data.shape"
   ]
  },
  {
   "cell_type": "code",
   "execution_count": 615,
   "metadata": {},
   "outputs": [
    {
     "data": {
      "text/html": [
       "<div>\n",
       "<style scoped>\n",
       "    .dataframe tbody tr th:only-of-type {\n",
       "        vertical-align: middle;\n",
       "    }\n",
       "\n",
       "    .dataframe tbody tr th {\n",
       "        vertical-align: top;\n",
       "    }\n",
       "\n",
       "    .dataframe thead th {\n",
       "        text-align: right;\n",
       "    }\n",
       "</style>\n",
       "<table border=\"1\" class=\"dataframe\">\n",
       "  <thead>\n",
       "    <tr style=\"text-align: right;\">\n",
       "      <th></th>\n",
       "      <th>album</th>\n",
       "      <th>album_key</th>\n",
       "      <th>song_nr</th>\n",
       "      <th>song_title</th>\n",
       "      <th>song_section</th>\n",
       "      <th>song_section_lyrics</th>\n",
       "    </tr>\n",
       "  </thead>\n",
       "  <tbody>\n",
       "    <tr>\n",
       "      <th>424</th>\n",
       "      <td>Tranquility Base Hotel &amp; Casino</td>\n",
       "      <td>6. TBH &amp; Casino</td>\n",
       "      <td>9</td>\n",
       "      <td>She Looks Like Fun</td>\n",
       "      <td>CHORUS</td>\n",
       "      <td>(She looks like fun) Key changes (She looks li...</td>\n",
       "    </tr>\n",
       "    <tr>\n",
       "      <th>425</th>\n",
       "      <td>Tranquility Base Hotel &amp; Casino</td>\n",
       "      <td>6. TBH &amp; Casino</td>\n",
       "      <td>10</td>\n",
       "      <td>Batphone</td>\n",
       "      <td>VERSE</td>\n",
       "      <td>I want an interesting synonym To describe this...</td>\n",
       "    </tr>\n",
       "    <tr>\n",
       "      <th>426</th>\n",
       "      <td>Tranquility Base Hotel &amp; Casino</td>\n",
       "      <td>6. TBH &amp; Casino</td>\n",
       "      <td>10</td>\n",
       "      <td>Batphone</td>\n",
       "      <td>VERSE</td>\n",
       "      <td>It's the big night in Tinsel City Life became ...</td>\n",
       "    </tr>\n",
       "    <tr>\n",
       "      <th>427</th>\n",
       "      <td>Tranquility Base Hotel &amp; Casino</td>\n",
       "      <td>6. TBH &amp; Casino</td>\n",
       "      <td>10</td>\n",
       "      <td>Batphone</td>\n",
       "      <td>CHORUS</td>\n",
       "      <td>I've recognised the glow of your low beams num...</td>\n",
       "    </tr>\n",
       "    <tr>\n",
       "      <th>428</th>\n",
       "      <td>Tranquility Base Hotel &amp; Casino</td>\n",
       "      <td>6. TBH &amp; Casino</td>\n",
       "      <td>10</td>\n",
       "      <td>Batphone</td>\n",
       "      <td>VERSE</td>\n",
       "      <td>You go in through the door Vengeance Trilogy w...</td>\n",
       "    </tr>\n",
       "    <tr>\n",
       "      <th>429</th>\n",
       "      <td>Tranquility Base Hotel &amp; Casino</td>\n",
       "      <td>6. TBH &amp; Casino</td>\n",
       "      <td>10</td>\n",
       "      <td>Batphone</td>\n",
       "      <td>CHORUS</td>\n",
       "      <td>I've recognised the glow of your low beams num...</td>\n",
       "    </tr>\n",
       "    <tr>\n",
       "      <th>430</th>\n",
       "      <td>Tranquility Base Hotel &amp; Casino</td>\n",
       "      <td>6. TBH &amp; Casino</td>\n",
       "      <td>11</td>\n",
       "      <td>The Ultracheese</td>\n",
       "      <td>VERSE</td>\n",
       "      <td>Still got pictures of friends on the wall I su...</td>\n",
       "    </tr>\n",
       "    <tr>\n",
       "      <th>431</th>\n",
       "      <td>Tranquility Base Hotel &amp; Casino</td>\n",
       "      <td>6. TBH &amp; Casino</td>\n",
       "      <td>11</td>\n",
       "      <td>The Ultracheese</td>\n",
       "      <td>VERSE</td>\n",
       "      <td>What a death I died writing that song Start to...</td>\n",
       "    </tr>\n",
       "    <tr>\n",
       "      <th>432</th>\n",
       "      <td>Tranquility Base Hotel &amp; Casino</td>\n",
       "      <td>6. TBH &amp; Casino</td>\n",
       "      <td>11</td>\n",
       "      <td>The Ultracheese</td>\n",
       "      <td>VERSE</td>\n",
       "      <td>I still got pictures of friends on the wall I ...</td>\n",
       "    </tr>\n",
       "    <tr>\n",
       "      <th>433</th>\n",
       "      <td>Tranquility Base Hotel &amp; Casino</td>\n",
       "      <td>6. TBH &amp; Casino</td>\n",
       "      <td>11</td>\n",
       "      <td>The Ultracheese</td>\n",
       "      <td>OUTRO</td>\n",
       "      <td>Oh, the dawn won't stop weighing a tonne I've ...</td>\n",
       "    </tr>\n",
       "  </tbody>\n",
       "</table>\n",
       "</div>"
      ],
      "text/plain": [
       "                               album        album_key  song_nr  \\\n",
       "424  Tranquility Base Hotel & Casino  6. TBH & Casino        9   \n",
       "425  Tranquility Base Hotel & Casino  6. TBH & Casino       10   \n",
       "426  Tranquility Base Hotel & Casino  6. TBH & Casino       10   \n",
       "427  Tranquility Base Hotel & Casino  6. TBH & Casino       10   \n",
       "428  Tranquility Base Hotel & Casino  6. TBH & Casino       10   \n",
       "429  Tranquility Base Hotel & Casino  6. TBH & Casino       10   \n",
       "430  Tranquility Base Hotel & Casino  6. TBH & Casino       11   \n",
       "431  Tranquility Base Hotel & Casino  6. TBH & Casino       11   \n",
       "432  Tranquility Base Hotel & Casino  6. TBH & Casino       11   \n",
       "433  Tranquility Base Hotel & Casino  6. TBH & Casino       11   \n",
       "\n",
       "             song_title song_section  \\\n",
       "424  She Looks Like Fun       CHORUS   \n",
       "425            Batphone        VERSE   \n",
       "426            Batphone        VERSE   \n",
       "427            Batphone       CHORUS   \n",
       "428            Batphone        VERSE   \n",
       "429            Batphone       CHORUS   \n",
       "430     The Ultracheese        VERSE   \n",
       "431     The Ultracheese        VERSE   \n",
       "432     The Ultracheese        VERSE   \n",
       "433     The Ultracheese        OUTRO   \n",
       "\n",
       "                                   song_section_lyrics  \n",
       "424  (She looks like fun) Key changes (She looks li...  \n",
       "425  I want an interesting synonym To describe this...  \n",
       "426  It's the big night in Tinsel City Life became ...  \n",
       "427  I've recognised the glow of your low beams num...  \n",
       "428  You go in through the door Vengeance Trilogy w...  \n",
       "429  I've recognised the glow of your low beams num...  \n",
       "430  Still got pictures of friends on the wall I su...  \n",
       "431  What a death I died writing that song Start to...  \n",
       "432  I still got pictures of friends on the wall I ...  \n",
       "433  Oh, the dawn won't stop weighing a tonne I've ...  "
      ]
     },
     "execution_count": 615,
     "metadata": {},
     "output_type": "execute_result"
    }
   ],
   "source": [
    "data.tail(10)"
   ]
  },
  {
   "cell_type": "markdown",
   "metadata": {},
   "source": [
    "### Store clean scraped data for manual processing"
   ]
  },
  {
   "cell_type": "code",
   "execution_count": 625,
   "metadata": {},
   "outputs": [],
   "source": [
    "data.to_excel(\"../data/data_lyrics_arctic_monkeys_scraped.xlsx\", index=False)"
   ]
  }
 ],
 "metadata": {
  "kernelspec": {
   "display_name": "Python 3",
   "language": "python",
   "name": "python3"
  },
  "language_info": {
   "codemirror_mode": {
    "name": "ipython",
    "version": 3
   },
   "file_extension": ".py",
   "mimetype": "text/x-python",
   "name": "python",
   "nbconvert_exporter": "python",
   "pygments_lexer": "ipython3",
   "version": "3.7.1"
  }
 },
 "nbformat": 4,
 "nbformat_minor": 2
}
